{
 "cells": [
  {
   "cell_type": "code",
   "execution_count": 1,
   "metadata": {},
   "outputs": [
    {
     "name": "stdout",
     "output_type": "stream",
     "text": [
      "[[ 0  0]\n",
      " [-1 -2]\n",
      " [-2 -4]]\n",
      "[[ 0  0]\n",
      " [-1 -2]\n",
      " [-2 -4]]\n"
     ]
    }
   ],
   "source": [
    "import numpy as np;\n",
    "\n",
    "# just some matrix reminders\n",
    "\n",
    "#######  how to apply weight-delta changes #########\n",
    "deltas = np.array([1, 2]);\n",
    "layer = np.array([1, 2, 3]);\n",
    "weights = np.array([[1, 2], [1, 2], [1, 2]])\n",
    "\n",
    "#initially I'd do something like\n",
    "\n",
    "for i in range(len(deltas)):\n",
    "    for j in range(len(layer)):\n",
    "        weights[j][i] -= deltas[i] * layer[j];\n",
    "\n",
    "print(weights)\n",
    "\n",
    "weights = np.array([[1, 2], [1, 2], [1, 2]])\n",
    "# but its actually just\n",
    "layer = layer[np.newaxis]\n",
    "deltas = deltas[np.newaxis]\n",
    "weights -= layer.T.dot(deltas)\n",
    "\n",
    "print(weights)\n"
   ]
  },
  {
   "cell_type": "code",
   "execution_count": null,
   "metadata": {},
   "outputs": [],
   "source": []
  }
 ],
 "metadata": {
  "kernelspec": {
   "display_name": "Python 3",
   "language": "python",
   "name": "python3"
  },
  "language_info": {
   "codemirror_mode": {
    "name": "ipython",
    "version": 3
   },
   "file_extension": ".py",
   "mimetype": "text/x-python",
   "name": "python",
   "nbconvert_exporter": "python",
   "pygments_lexer": "ipython3",
   "version": "3.6.5"
  }
 },
 "nbformat": 4,
 "nbformat_minor": 2
}
