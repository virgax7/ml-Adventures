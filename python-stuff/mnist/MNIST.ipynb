{
 "cells": [
  {
   "cell_type": "code",
   "execution_count": 119,
   "metadata": {},
   "outputs": [
    {
     "name": "stdout",
     "output_type": "stream",
     "text": [
      "Now drawing  1\n"
     ]
    },
    {
     "data": {
      "image/png": "[encoded data removed]",
      "text/plain": [
       "<Figure size 288x288 with 1 Axes>"
      ]
     },
     "metadata": {},
     "output_type": "display_data"
    }
   ],
   "source": [
    "import numpy as np\n",
    "import pandas as pd\n",
    "import matplotlib.pyplot as plt\n",
    "\n",
    "data = pd.read_csv(\"train.csv\").values\n",
    "\n",
    "def draw(number_row, number):\n",
    "    print(\"Now drawing \", number)\n",
    "    image = np.zeros((28, 28))\n",
    "    \n",
    "    i = 0\n",
    "    for j in range(28):\n",
    "        k = i + 28\n",
    "        image[j] = number_row[i:k]\n",
    "        i = k\n",
    "        \n",
    "    plt.matshow(image)\n",
    "\n",
    "draw(data[0][1:], data[0][0])\n",
    "    "
   ]
  },
  {
   "cell_type": "code",
   "execution_count": 75,
   "metadata": {},
   "outputs": [
    {
     "name": "stdout",
     "output_type": "stream",
     "text": [
      "[  0   0 191 250 253  93   0]\n"
     ]
    }
   ],
   "source": [
    "# first, lets check th weights on those yellow inputs vs the purple\n",
    "# for row 5, it seems like we can go from column 15 to 25 and have captured purple to green to yellow and back\n",
    "print(data[0][5 * 28 + 18:5 * 28 + 25])\n",
    "      \n",
    "# purples are 0, greens are like \\d\\d-200 and yellows are 200+"
   ]
  },
  {
   "cell_type": "code",
   "execution_count": null,
   "metadata": {},
   "outputs": [],
   "source": [
    "# well keep this in mind since we will be using this data row later to see how weights shift\n"
   ]
  },
  {
   "cell_type": "code",
   "execution_count": 18,
   "metadata": {},
   "outputs": [
    {
     "name": "stdout",
     "output_type": "stream",
     "text": [
      "[[1. 0. 0. 0. 0. 0. 0. 0. 0. 0.]\n",
      " [0. 1. 0. 0. 0. 0. 0. 0. 0. 0.]\n",
      " [0. 0. 1. 0. 0. 0. 0. 0. 0. 0.]\n",
      " [0. 0. 0. 1. 0. 0. 0. 0. 0. 0.]\n",
      " [0. 0. 0. 0. 1. 0. 0. 0. 0. 0.]\n",
      " [0. 0. 0. 0. 0. 1. 0. 0. 0. 0.]\n",
      " [0. 0. 0. 0. 0. 0. 1. 0. 0. 0.]\n",
      " [0. 0. 0. 0. 0. 0. 0. 1. 0. 0.]\n",
      " [0. 0. 0. 0. 0. 0. 0. 0. 1. 0.]\n",
      " [0. 0. 0. 0. 0. 0. 0. 0. 0. 1.]]\n"
     ]
    }
   ],
   "source": [
    "# sweet... lets make our truths array\n",
    "\n",
    "truths = np.zeros((10, 10))\n",
    "for i in range(10):\n",
    "    truths[i][i] = 1\n",
    "\n",
    "print(truths)"
   ]
  },
  {
   "cell_type": "code",
   "execution_count": 116,
   "metadata": {},
   "outputs": [
    {
     "name": "stdout",
     "output_type": "stream",
     "text": [
      "[[0.1 0.1 0.1 ... 0.1 0.1 0.1]\n",
      " [0.1 0.1 0.1 ... 0.1 0.1 0.1]\n",
      " [0.1 0.1 0.1 ... 0.1 0.1 0.1]\n",
      " ...\n",
      " [0.1 0.1 0.1 ... 0.1 0.1 0.1]\n",
      " [0.1 0.1 0.1 ... 0.1 0.1 0.1]\n",
      " [0.1 0.1 0.1 ... 0.1 0.1 0.1]] \n",
      "\n",
      "[  0   0 191 250 253  93   0] \n",
      "\n",
      "preds [1664.9 1664.9 1664.9 1664.9 1664.9 1664.9 1664.9 1664.9 1664.9 1664.9]\n",
      "sig_weights [ 1.000000e-01  1.000000e-01 -3.178048e+05 -4.159749e+05 -4.209666e+05\n",
      " -1.547426e+05  1.000000e-01] \n",
      "\n",
      "preds [-6.03898855e+09 -6.03536131e+09 -6.03898855e+09 -6.03898855e+09\n",
      " -6.03898855e+09 -6.03898855e+09 -6.03898855e+09 -6.03898855e+09\n",
      " -6.03898855e+09 -6.03898855e+09]\n",
      "sig_weights [1.00000000e-01 1.00000000e-01 1.15275369e+12 1.50883991e+12\n",
      " 1.52694599e+12 5.61288447e+11 1.00000000e-01] \n",
      "\n",
      "preds [2.19048487e+16 2.18916919e+16 2.19048487e+16 2.19048487e+16\n",
      " 2.19048487e+16 2.19048487e+16 2.19048487e+16 2.19048487e+16\n",
      " 2.19048487e+16 2.19048487e+16]\n",
      "sig_weights [ 1.00000000e-01  1.00000000e-01 -4.18131200e+18 -5.47292146e+18\n",
      " -5.53859652e+18 -2.03592678e+18  1.00000000e-01] \n",
      "\n"
     ]
    }
   ],
   "source": [
    "# next, lets make our weights, I like to keep them uniform so I can be sure they are start from the same ground\n",
    "weights = np.zeros((784, 10))\n",
    "for i in range(10):\n",
    "    for j in range(784):\n",
    "        weights[j][i] = 0.1\n",
    "\n",
    "print(weights, \"\\n\")\n",
    "        \n",
    "# I chose weights 0.1 because we are going to try to predict 1, so it should be smaller so it can shift up \n",
    "# and down appropriately(we have to apply alpha to the weight deltas later\n",
    "\n",
    "# our input data has 24000 rows and maybe like 2400 of each image\n",
    "# let's first see what a sample run of neural nets look like for 3 runs for \"one\"(images)\n",
    "\n",
    "# first lets revisit that row we checked to see color values earlier\n",
    "print(data[0][5 * 28 + 18:5 * 28 + 25], \"\\n\")\n",
    "\n",
    "for i in range(3):\n",
    "    deltas = [0] * 10\n",
    "    inputs = np.array(data[0][1:])\n",
    "    number = data[0][0]\n",
    "    truth = truths[number]\n",
    "    \n",
    "    preds = inputs.dot(weights)\n",
    "    print (\"preds\", preds)\n",
    "    for j in range(10):\n",
    "        deltas[j] = preds[j] - truth[j]\n",
    "    \n",
    "    for j in range(10):\n",
    "        for k in range(784):\n",
    "            weights[k][j] -= deltas[j] * inputs[k]\n",
    "    \n",
    "    sig_weights = weights.T[number]\n",
    "    print(\"sig_weights\", sig_weights[5 * 28 + 17:5 * 28 + 24], \"\\n\")    "
   ]
  },
  {
   "cell_type": "code",
   "execution_count": 126,
   "metadata": {},
   "outputs": [
    {
     "name": "stdout",
     "output_type": "stream",
     "text": [
      "[[0.1 0.1 0.1 ... 0.1 0.1 0.1]\n",
      " [0.1 0.1 0.1 ... 0.1 0.1 0.1]\n",
      " [0.1 0.1 0.1 ... 0.1 0.1 0.1]\n",
      " ...\n",
      " [0.1 0.1 0.1 ... 0.1 0.1 0.1]\n",
      " [0.1 0.1 0.1 ... 0.1 0.1 0.1]\n",
      " [0.1 0.1 0.1 ... 0.1 0.1 0.1]] \n",
      "\n",
      "[  0   0 191 250 253  93   0] \n",
      "\n",
      "preds [0.16649 0.16649 0.16649 0.16649 0.16649 0.16649 0.16649 0.16649 0.16649\n",
      " 0.16649]\n",
      "sig_weights [0.1        0.1        0.11592004 0.12083775 0.1210878  0.10775164\n",
      " 0.1       ] \n",
      "\n",
      "preds [6.35489954e-08 9.99999682e-01 6.35489954e-08 6.35489954e-08\n",
      " 6.35489954e-08 6.35489954e-08 6.35489954e-08 6.35489954e-08\n",
      " 6.35489954e-08 6.35489954e-08]\n",
      "sig_weights [0.1        0.1        0.53890229 0.67447944 0.68137319 0.31370635\n",
      " 0.1       ] \n",
      "\n",
      "preds [2.42515968e-14 1.00000000e+00 2.42515968e-14 2.42515968e-14\n",
      " 2.42515968e-14 2.42515968e-14 2.42515968e-14 2.42515968e-14\n",
      " 2.42515968e-14 2.42515968e-14]\n",
      "sig_weights [0.1        0.1        0.53890245 0.67447965 0.68137341 0.31370643\n",
      " 0.1       ] \n",
      "\n",
      "preds [1.65340831e-17 1.00000000e+00 1.65340831e-17 1.65340831e-17\n",
      " 1.65340831e-17 1.65340831e-17 1.65340831e-17 1.65340831e-17\n",
      " 1.65340831e-17 1.65340831e-17]\n",
      "sig_weights [0.1        0.1        0.53890245 0.67447965 0.68137341 0.31370643\n",
      " 0.1       ] \n",
      "\n",
      "preds [7.96888597e-18 1.00000000e+00 7.96888597e-18 7.96888597e-18\n",
      " 7.96888597e-18 7.96888597e-18 7.96888597e-18 7.96888597e-18\n",
      " 7.96888597e-18 7.96888597e-18]\n",
      "sig_weights [0.1        0.1        0.53890245 0.67447965 0.68137341 0.31370643\n",
      " 0.1       ] \n",
      "\n",
      "preds [4.49943902e-18 1.00000000e+00 4.49943902e-18 4.49943902e-18\n",
      " 4.49943902e-18 4.49943902e-18 4.49943902e-18 4.49943902e-18\n",
      " 4.49943902e-18 4.49943902e-18]\n",
      "sig_weights [0.1        0.1        0.53890245 0.67447965 0.68137341 0.31370643\n",
      " 0.1       ] \n",
      "\n"
     ]
    }
   ],
   "source": [
    "# woah... imagine if we did this 2400 times, we are going to have overflow...\n",
    "# weight delta is big because there are a good amount of yellows and when you matrix multiply inputs by weights\n",
    "# the preds is pretty big(1664.9 in the first run), then it gets bigger since our weights are growing like crazy\n",
    "# to shift into the correct prediction 1. \n",
    "\n",
    "# This overshot to shift weights toward one is crazy,\n",
    "# you can see if overshot go from a huge negative to positive then to negative again\n",
    "# this means we need to alpha the changes... lets do this by toning down the inputs...\n",
    "\n",
    "#reset weights\n",
    "weights = np.zeros((784, 10))\n",
    "for i in range(10):\n",
    "    for j in range(784):\n",
    "        weights[j][i] = 0.1\n",
    "\n",
    "print(weights, \"\\n\")\n",
    "\n",
    "print(data[0][5 * 28 + 18:5 * 28 + 25], \"\\n\")\n",
    "\n",
    "for i in range(2400):\n",
    "    deltas = [0] * 10\n",
    "    inputs = np.array(data[0][1:])\n",
    "    # tone down the input\n",
    "    alpha = .0001\n",
    "    inputs = inputs * alpha\n",
    "    number = data[0][0]\n",
    "    truth = truths[number]\n",
    "    \n",
    "    preds = inputs.dot(weights)\n",
    "    \n",
    "    for j in range(10):\n",
    "        deltas[j] = preds[j] - truth[j]\n",
    "    \n",
    "    for j in range(10):\n",
    "        for k in range(784):\n",
    "            weights[k][j] -= deltas[j] * inputs[k]\n",
    "    \n",
    "    if (i % 400 == 0):\n",
    "        print (\"preds\", preds)\n",
    "        sig_weights = weights.T[number]\n",
    "        print(\"sig_weights\", sig_weights[5 * 28 + 17:5 * 28 + 24], \"\\n\") "
   ]
  },
  {
   "cell_type": "code",
   "execution_count": 110,
   "metadata": {},
   "outputs": [],
   "source": [
    "# hmm.. seems good to me, its prediction is shifting well without the overshotting and it found the good \n",
    "# weights relatively fast at around 400 iterations (9.99999682) I mean this makes sense because\n",
    "# the preds shift less than 1. for example .16649.\n",
    "\n",
    "# I will discuss some problems with this gradient descent approach when using multiple neurons(784 inputs with \n",
    "# 10 weights each connecting to 10 output neurons)\n",
    "# and also why it is okay and ignorable in the big grand scheme of it\n",
    "\n",
    "# first lets run the whole 24000... and then show the weight images and also predictions\n"
   ]
  },
  {
   "cell_type": "code",
   "execution_count": 129,
   "metadata": {},
   "outputs": [
    {
     "name": "stdout",
     "output_type": "stream",
     "text": [
      "Now drawing  0\n",
      "Now drawing  1\n",
      "Now drawing  2\n",
      "Now drawing  3\n",
      "Now drawing  4\n",
      "Now drawing  5\n",
      "Now drawing  6\n",
      "Now drawing  7\n",
      "Now drawing  8\n",
      "Now drawing  9\n",
      "----------------------------------------------------------------\n",
      "\n",
      "truth is  1\n",
      "preds [-0.09860515  0.49035493  0.04994828  0.10230354 -0.00934458  0.04201023\n",
      " -0.10170793 -0.100764    0.29659258  0.01612875]\n",
      "----------------------------------------------------------------\n",
      "\n",
      "----------------------------------------------------------------\n",
      "\n",
      "truth is  0\n",
      "preds [ 0.99006652 -0.11921253  0.05117487  0.13612536 -0.13664287 -0.16788953\n",
      "  0.1320512   0.12587443  0.08652152 -0.04840506]\n",
      "----------------------------------------------------------------\n",
      "\n",
      "----------------------------------------------------------------\n",
      "\n",
      "truth is  1\n",
      "preds [-0.00781553  0.94110986 -0.01046954  0.02989412 -0.09191715  0.01481618\n",
      "  0.06115131  0.00438148  0.03356738 -0.00660174]\n",
      "----------------------------------------------------------------\n",
      "\n",
      "----------------------------------------------------------------\n",
      "\n",
      "truth is  4\n",
      "preds [ 0.09940165  0.00490627  0.16895136 -0.09575588  0.04624421  0.00183567\n",
      "  0.12734883 -0.00835645 -0.03679132  0.00732011]\n",
      "----------------------------------------------------------------\n",
      "\n",
      "----------------------------------------------------------------\n",
      "\n",
      "truth is  0\n",
      "preds [ 1.23257654 -0.12904554  0.17662377  0.18068405 -0.16244893 -0.23511443\n",
      " -0.09383747  0.08092364  0.05955326  0.09678388]\n",
      "----------------------------------------------------------------\n",
      "\n",
      "----------------------------------------------------------------\n",
      "\n",
      "truth is  0\n",
      "preds [ 0.34012961 -0.09423266  0.12713264  0.11203179  0.07000004  0.04905185\n",
      " -0.1242705   0.06443017  0.07846924  0.06528213]\n",
      "----------------------------------------------------------------\n",
      "\n",
      "----------------------------------------------------------------\n",
      "\n",
      "truth is  7\n",
      "preds [-3.20371845e-02 -5.24271529e-02  1.09943662e-02  5.19869623e-02\n",
      "  4.75997337e-04  1.98775798e-03 -4.10098360e-02  6.36397296e-01\n",
      " -3.86843884e-03  1.91410655e-01]\n",
      "----------------------------------------------------------------\n",
      "\n",
      "----------------------------------------------------------------\n",
      "\n",
      "truth is  3\n",
      "preds [-0.03011204 -0.19986321  0.11306015  0.49887478 -0.25810325  0.04137385\n",
      " -0.17834081  0.15941382  0.06449384  0.49999017]\n",
      "----------------------------------------------------------------\n",
      "\n",
      "----------------------------------------------------------------\n",
      "\n",
      "truth is  5\n",
      "preds [-0.02775465 -0.09462831 -0.17135325  0.32079294  0.15758746  0.42067134\n",
      "  0.066932   -0.09589587  0.16828619  0.1667945 ]\n",
      "----------------------------------------------------------------\n",
      "\n",
      "----------------------------------------------------------------\n",
      "\n",
      "truth is  3\n",
      "preds [ 0.12185377  0.08025405  0.31665269  0.70919082 -0.13730656 -0.05092884\n",
      " -0.050483    0.1286474  -0.17722859  0.01173784]\n",
      "----------------------------------------------------------------\n",
      "\n",
      "----------------------------------------------------------------\n",
      "\n",
      "truth is  8\n",
      "preds [ 0.01088911 -0.12992296  0.0062357   0.16740349 -0.21634294  0.11124523\n",
      "  0.01780161  0.26646927  0.70897285  0.38839028]\n",
      "----------------------------------------------------------------\n",
      "\n",
      "----------------------------------------------------------------\n",
      "\n",
      "truth is  9\n",
      "preds [-0.07469886 -0.00823435 -0.09095846  0.04271124  0.01179508  0.18277101\n",
      "  0.10335952  0.21422628  0.10116955  0.54624351]\n",
      "----------------------------------------------------------------\n",
      "\n",
      "----------------------------------------------------------------\n",
      "\n",
      "truth is  1\n",
      "preds [-0.12271576  0.73345367  0.0177824   0.03664966 -0.09925052  0.01159503\n",
      "  0.05609481 -0.09762287  0.1568971   0.07130095]\n",
      "----------------------------------------------------------------\n",
      "\n",
      "----------------------------------------------------------------\n",
      "\n",
      "truth is  3\n",
      "preds [ 0.02821217  0.05480262 -0.05149044  0.74498567 -0.01456972  0.05373944\n",
      " -0.06539471  0.41143443  0.37504443 -0.26520732]\n",
      "----------------------------------------------------------------\n",
      "\n",
      "----------------------------------------------------------------\n",
      "\n",
      "truth is  3\n",
      "preds [ 0.03205188 -0.14904826  0.16006559  0.75656695 -0.04774595 -0.17053077\n",
      "  0.11870984  0.02703638  0.08323227  0.03777367]\n",
      "----------------------------------------------------------------\n",
      "\n",
      "----------------------------------------------------------------\n",
      "\n",
      "truth is  1\n",
      "preds [-0.05062438  0.53880295  0.01360789  0.05303501  0.03371739 -0.02090116\n",
      " -0.01564215  0.04017665 -0.00232276  0.04877087]\n",
      "----------------------------------------------------------------\n",
      "\n",
      "----------------------------------------------------------------\n",
      "\n",
      "truth is  2\n",
      "preds [ 0.10563278  0.24729359  0.27844784  0.06600121 -0.2456484   0.1044499\n",
      "  0.10153451  0.08783438  0.68643764 -0.02090375]\n",
      "----------------------------------------------------------------\n",
      "\n",
      "----------------------------------------------------------------\n",
      "\n",
      "truth is  0\n",
      "preds [ 0.68012083 -0.0271329   0.02409046  0.10408099 -0.03045461  0.14492325\n",
      "  0.10181768 -0.05257255 -0.12294729  0.03680439]\n",
      "----------------------------------------------------------------\n",
      "\n",
      "----------------------------------------------------------------\n",
      "\n",
      "truth is  7\n",
      "preds [ 0.03740471 -0.05014726  0.03257167  0.0249229  -0.1101147  -0.029807\n",
      " -0.01459833  0.47698187  0.00665843  0.24577116]\n",
      "----------------------------------------------------------------\n",
      "\n",
      "----------------------------------------------------------------\n",
      "\n",
      "truth is  5\n",
      "preds [ 0.01640276  0.01144566  0.05062101  0.11484779  0.15073982  0.29580334\n",
      "  0.70504752 -0.16401496  0.13784444 -0.0782193 ]\n",
      "----------------------------------------------------------------\n",
      "\n"
     ]
    },
    {
     "data": {
      "image/png": "[encoded data removed]",
      "text/plain": [
       "<Figure size 288x288 with 1 Axes>"
      ]
     },
     "metadata": {},
     "output_type": "display_data"
    },
    {
     "data": {
      "image/png": "[encoded data removed]",
      "text/plain": [
       "<Figure size 288x288 with 1 Axes>"
      ]
     },
     "metadata": {},
     "output_type": "display_data"
    },
    {
     "data": {
      "image/png": "[encoded data removed]",
      "text/plain": [
       "<Figure size 288x288 with 1 Axes>"
      ]
     },
     "metadata": {},
     "output_type": "display_data"
    },
    {
     "data": {
      "image/png": "[encoded data removed]",
      "text/plain": [
       "<Figure size 288x288 with 1 Axes>"
      ]
     },
     "metadata": {},
     "output_type": "display_data"
    },
    {
     "data": {
      "image/png": "[encoded data removed]",
      "text/plain": [
       "<Figure size 288x288 with 1 Axes>"
      ]
     },
     "metadata": {},
     "output_type": "display_data"
    },
    {
     "data": {
      "image/png": "[encoded data removed]",
      "text/plain": [
       "<Figure size 288x288 with 1 Axes>"
      ]
     },
     "metadata": {},
     "output_type": "display_data"
    },
    {
     "data": {
      "image/png": "[encoded data removed]",
      "text/plain": [
       "<Figure size 288x288 with 1 Axes>"
      ]
     },
     "metadata": {},
     "output_type": "display_data"
    },
    {
     "data": {
      "image/png": "[encoded data removed]",
      "text/plain": [
       "<Figure size 288x288 with 1 Axes>"
      ]
     },
     "metadata": {},
     "output_type": "display_data"
    },
    {
     "data": {
      "image/png": "[encoded data removed]",
      "text/plain": [
       "<Figure size 288x288 with 1 Axes>"
      ]
     },
     "metadata": {},
     "output_type": "display_data"
    },
    {
     "data": {
      "image/png": "[encoded data removed]",
      "text/plain": [
       "<Figure size 288x288 with 1 Axes>"
      ]
     },
     "metadata": {},
     "output_type": "display_data"
    }
   ],
   "source": [
    "weights = np.zeros((784, 10))\n",
    "for i in range(10):\n",
    "    for j in range(784):\n",
    "        weights[j][i] = 0.1\n",
    "\n",
    "for i in range(24000):\n",
    "    deltas = [0] * 10\n",
    "    inputs = np.array(data[i][1:])\n",
    "    inputs = inputs * .0001\n",
    "    number = data[i][0]\n",
    "    truth = truths[number]\n",
    "    \n",
    "    preds = inputs.dot(weights)\n",
    "    \n",
    "    for j in range(10):\n",
    "        deltas[j] = preds[j] - truth[j]\n",
    "    \n",
    "    for j in range(10):\n",
    "        for k in range(784):\n",
    "            weights[k][j] -= deltas[j] * inputs[k]\n",
    "    \n",
    "\n",
    "for i, weight in enumerate(weights.T):\n",
    "    draw(weight, i)\n",
    "    \n",
    "for i in range(20):\n",
    "    inputs = np.array(data[i][1:])\n",
    "    inputs = inputs * .0001\n",
    "    truth = data[i][0]\n",
    "\n",
    "    preds = inputs.dot(weights)\n",
    "    print(\"----------------------------------------------------------------\\n\")\n",
    "    print(\"truth is \", truth)\n",
    "    print(\"preds\", preds)\n",
    "    print(\"----------------------------------------------------------------\\n\")\n"
   ]
  },
  {
   "cell_type": "code",
   "execution_count": null,
   "metadata": {},
   "outputs": [],
   "source": [
    "# as you can see, the weights seem closely related to their numbers..\n",
    "# this means that when predicting, the correspondent inputs vs weights will help the prediction to be closer\n",
    "# to one other than the rest because if you remember back to our first print outs with alpha \n",
    "\n",
    "'''\n",
    "preds [0.16649 0.16649 0.16649 0.16649 0.16649 0.16649 0.16649 0.16649 0.16649\n",
    " 0.16649]\n",
    "sig_weights [0.1        0.1        0.11592004 0.12083775 0.1210878  0.10775164\n",
    " 0.1       ] \n",
    "\n",
    "preds [6.35489954e-08 9.99999682e-01 6.35489954e-08 6.35489954e-08\n",
    " 6.35489954e-08 6.35489954e-08 6.35489954e-08 6.35489954e-08\n",
    " 6.35489954e-08 6.35489954e-08]\n",
    "sig_weights [0.1        0.1        0.53890229 0.67447944 0.68137319 0.31370635\n",
    " 0.1       ] \n",
    "\n",
    "preds [2.42515968e-14 1.00000000e+00 2.42515968e-14 2.42515968e-14\n",
    " 2.42515968e-14 2.42515968e-14 2.42515968e-14 2.42515968e-14\n",
    " 2.42515968e-14 2.42515968e-14]\n",
    "sig_weights [0.1        0.1        0.53890245 0.67447965 0.68137341 0.31370643\n",
    " 0.1       ] \n",
    "'''\n",
    "\n",
    "# you can see that in the sig_weights, the good weights got shifted up due to the derivative of our error curve\n",
    "# if you actually plotted our error curve on a graph you can see that the weight weight delta\n",
    "# (i.e) deltas[j] * inputs[k] is the (1/2)derivate at the point where weight is the x\n",
    "# the error curve is the quadratic line which is plotted by error = (input(weight) - truth) ** 2\n",
    "# \n",
    "''' preds = inputs.dot(weights)\n",
    "    \n",
    "    for j in range(10):\n",
    "        deltas[j] = preds[j] - truth[j]\n",
    "    \n",
    "    for j in range(10):\n",
    "        for k in range(784):\n",
    "            weights[k][j] -= deltas[j] * inputs[k]'''\n",
    "\n",
    "# our weight delta correctly predicts which way to shift the weight towards because it is the derivative\n",
    "# using that we shift it towards close to where error will be zero where error = 0\n",
    "\n",
    "# This means that since for the non truthful weights on the neurons,\n",
    "# their truth is 0, the corresponding weights get shifted well towards where error will be close to 0\n",
    "# i.e when prediction is 0 since error = ((pred = 0) - 0)) ** 2 = 0\n",
    "# thats why you see that the prediction goes from .16649 to something ridiculously small\n",
    "\n",
    "# we can also see from our truth and prediction prints that everything is good, except 5\n",
    "# why would that be? lets test it out below"
   ]
  },
  {
   "cell_type": "code",
   "execution_count": 131,
   "metadata": {},
   "outputs": [
    {
     "name": "stdout",
     "output_type": "stream",
     "text": [
      "----------------------------------------------------------------\n",
      "\n",
      "truth is  5\n",
      "preds [-0.02775465 -0.09462831 -0.17135325  0.32079294  0.15758746  0.42067134\n",
      "  0.066932   -0.09589587  0.16828619  0.1667945 ]\n",
      "----------------------------------------------------------------\n",
      "\n",
      "----------------------------------------------------------------\n",
      "\n",
      "truth is  5\n",
      "preds [ 0.01640276  0.01144566  0.05062101  0.11484779  0.15073982  0.29580334\n",
      "  0.70504752 -0.16401496  0.13784444 -0.0782193 ]\n",
      "----------------------------------------------------------------\n",
      "\n"
     ]
    }
   ],
   "source": [
    "for i in range(20):\n",
    "    truth = data[i][0]\n",
    "    if (truth == 5) :\n",
    "        inputs = np.array(data[i][1:])\n",
    "        inputs = inputs * .0001\n",
    "\n",
    "\n",
    "        preds = inputs.dot(weights)\n",
    "        print(\"----------------------------------------------------------------\\n\")\n",
    "        print(\"truth is \", truth)\n",
    "        print(\"preds\", preds)\n",
    "        print(\"----------------------------------------------------------------\\n\")\n",
    "\n",
    "\n",
    "\n",
    "\n",
    "# hmm.. the first one is good, index 5 is closest to one, but why is the second on messed up?\n"
   ]
  },
  {
   "cell_type": "code",
   "execution_count": 133,
   "metadata": {},
   "outputs": [
    {
     "name": "stdout",
     "output_type": "stream",
     "text": [
      "Now drawing  5\n",
      "Now drawing  5\n"
     ]
    },
    {
     "data": {
      "image/png": "[encoded data removed]",
      "text/plain": [
       "<Figure size 288x288 with 1 Axes>"
      ]
     },
     "metadata": {},
     "output_type": "display_data"
    },
    {
     "data": {
      "image/png": "[encoded data removed]",
      "text/plain": [
       "<Figure size 288x288 with 1 Axes>"
      ]
     },
     "metadata": {},
     "output_type": "display_data"
    }
   ],
   "source": [
    "# the reason is because it looks so closely to six.. I mean I would also be confused, can't really blame to \n",
    "# computer at this point, gotta blame the number.. check it out.\n",
    "for i in range(20):\n",
    "    truth = data[i][0]\n",
    "    if (truth == 5) :\n",
    "        inputs = np.array(data[i][1:])\n",
    "        inputs = inputs * .0001\n",
    "        draw(inputs, data[i][0])\n",
    "\n"
   ]
  },
  {
   "cell_type": "code",
   "execution_count": 134,
   "metadata": {},
   "outputs": [],
   "source": [
    "# LOL, the first five is definitely a five, but the second one looks more like a six to me... \n",
    "# anyways, moving onto some problems with this gradient descent approach below(at least for this mnist exercise)"
   ]
  },
  {
   "cell_type": "code",
   "execution_count": null,
   "metadata": {},
   "outputs": [],
   "source": [
    "# effects to other neuron weights for  calculations of different truths as well as overlaps\n",
    "# for example, we saw \n",
    "'''preds [0.16649 0.16649 0.16649 0.16649 0.16649 0.16649 0.16649 0.16649 0.16649\n",
    " 0.16649]\n",
    "sig_weights [0.1        0.1        0.11592004 0.12083775 0.1210878  0.10775164\n",
    " 0.1       ] \n",
    "\n",
    "preds [6.35489954e-08 9.99999682e-01 6.35489954e-08 6.35489954e-08\n",
    " 6.35489954e-08 6.35489954e-08 6.35489954e-08 6.35489954e-08\n",
    " 6.35489954e-08 6.35489954e-08]\n",
    "sig_weights [0.1        0.1        0.53890229 0.67447944 0.68137319 0.31370635\n",
    " 0.1       ] \n",
    "\n",
    "preds [2.42515968e-14 1.00000000e+00 2.42515968e-14 2.42515968e-14\n",
    " 2.42515968e-14 2.42515968e-14 2.42515968e-14 2.42515968e-14\n",
    " 2.42515968e-14 2.42515968e-14]\n",
    "sig_weights [0.1        0.1        0.53890245 0.67447965 0.68137341 0.31370643\n",
    " 0.1       ] \n",
    "'''\n",
    "\n",
    "# yes, its true that weights got shifted towards the right way and thus preds came out more correctly\n",
    "# however, this affected weights to the non relevant weights because for numbers that overlapp, if their\n",
    "# weights have been shifted down a lot prior to learning for the correct weight, it will need to shift back up\n",
    "# possibly and if their isn't enough examples then the network weights can be in a bad state for those\n",
    "# numbers that didn't let their weights learn a lot.\n",
    "\n",
    "# what I'm saying is that, it is important to have a diverse variety of inputs to have a more balanced neuralnet\n",
    "# however, if the predictions are off for those, then the shifts will be bigger since the \n",
    "# error is higher, so yes the neural net does\n",
    "# try its best to fix its weights, but a diverse and balanced input is the best\n",
    "\n",
    "# This way also, things can be more generalized, instead of trying to \"learn\" a certain exact same numbers\n",
    "# whether its learning 1 number of the same exact shape, or learning a couple of numbers of the same shape\n",
    "# multiple times. A more generalized neural net seems to do better in my opinion, at least for mnist"
   ]
  }
 ],
 "metadata": {
  "kernelspec": {
   "display_name": "Python 3",
   "language": "python",
   "name": "python3"
  },
  "language_info": {
   "codemirror_mode": {
    "name": "ipython",
    "version": 3
   },
   "file_extension": ".py",
   "mimetype": "text/x-python",
   "name": "python",
   "nbconvert_exporter": "python",
   "pygments_lexer": "ipython3",
   "version": "3.6.5"
  }
 },
 "nbformat": 4,
 "nbformat_minor": 2
}
